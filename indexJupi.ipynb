{
 "cells": [
  {
   "cell_type": "code",
   "execution_count": null,
   "metadata": {},
   "outputs": [
    {
     "ename": "",
     "evalue": "",
     "output_type": "error",
     "traceback": [
      "\u001b[1;31mRunning cells with 'streamlit-en' requires the ipykernel package.\n",
      "\u001b[1;31mRun the following command to install 'ipykernel' into the Python environment. \n",
      "\u001b[1;31mCommand: 'conda install -n streamlit-en ipykernel --update-deps --force-reinstall'"
     ]
    }
   ],
   "source": [
    "import pandas as pd"
   ]
  },
  {
   "cell_type": "code",
   "execution_count": 6,
   "metadata": {},
   "outputs": [],
   "source": [
    "df=pd.read_csv(\"Iris.csv\")"
   ]
  },
  {
   "cell_type": "code",
   "execution_count": 7,
   "metadata": {},
   "outputs": [
    {
     "data": {
      "text/plain": [
       "(150, 6)"
      ]
     },
     "execution_count": 7,
     "metadata": {},
     "output_type": "execute_result"
    }
   ],
   "source": [
    "df.shape"
   ]
  },
  {
   "cell_type": "code",
   "execution_count": 8,
   "metadata": {},
   "outputs": [
    {
     "name": "stdout",
     "output_type": "stream",
     "text": [
      "<class 'pandas.core.frame.DataFrame'>\n",
      "RangeIndex: 150 entries, 0 to 149\n",
      "Data columns (total 6 columns):\n",
      " #   Column         Non-Null Count  Dtype  \n",
      "---  ------         --------------  -----  \n",
      " 0   Id             150 non-null    int64  \n",
      " 1   SepalLengthCm  150 non-null    float64\n",
      " 2   SepalWidthCm   150 non-null    float64\n",
      " 3   PetalLengthCm  150 non-null    float64\n",
      " 4   PetalWidthCm   150 non-null    float64\n",
      " 5   Species        150 non-null    object \n",
      "dtypes: float64(4), int64(1), object(1)\n",
      "memory usage: 7.2+ KB\n"
     ]
    }
   ],
   "source": [
    "df.info()"
   ]
  },
  {
   "cell_type": "code",
   "execution_count": 9,
   "metadata": {},
   "outputs": [
    {
     "data": {
      "text/html": [
       "<div>\n",
       "<style scoped>\n",
       "    .dataframe tbody tr th:only-of-type {\n",
       "        vertical-align: middle;\n",
       "    }\n",
       "\n",
       "    .dataframe tbody tr th {\n",
       "        vertical-align: top;\n",
       "    }\n",
       "\n",
       "    .dataframe thead th {\n",
       "        text-align: right;\n",
       "    }\n",
       "</style>\n",
       "<table border=\"1\" class=\"dataframe\">\n",
       "  <thead>\n",
       "    <tr style=\"text-align: right;\">\n",
       "      <th></th>\n",
       "      <th>Id</th>\n",
       "      <th>SepalLengthCm</th>\n",
       "      <th>SepalWidthCm</th>\n",
       "      <th>PetalLengthCm</th>\n",
       "      <th>PetalWidthCm</th>\n",
       "      <th>Species</th>\n",
       "    </tr>\n",
       "  </thead>\n",
       "  <tbody>\n",
       "    <tr>\n",
       "      <th>0</th>\n",
       "      <td>1</td>\n",
       "      <td>5.1</td>\n",
       "      <td>3.5</td>\n",
       "      <td>1.4</td>\n",
       "      <td>0.2</td>\n",
       "      <td>setosa</td>\n",
       "    </tr>\n",
       "    <tr>\n",
       "      <th>1</th>\n",
       "      <td>2</td>\n",
       "      <td>4.9</td>\n",
       "      <td>3.0</td>\n",
       "      <td>1.4</td>\n",
       "      <td>0.2</td>\n",
       "      <td>setosa</td>\n",
       "    </tr>\n",
       "    <tr>\n",
       "      <th>2</th>\n",
       "      <td>3</td>\n",
       "      <td>4.7</td>\n",
       "      <td>3.2</td>\n",
       "      <td>1.3</td>\n",
       "      <td>0.2</td>\n",
       "      <td>setosa</td>\n",
       "    </tr>\n",
       "    <tr>\n",
       "      <th>3</th>\n",
       "      <td>4</td>\n",
       "      <td>4.6</td>\n",
       "      <td>3.1</td>\n",
       "      <td>1.5</td>\n",
       "      <td>0.2</td>\n",
       "      <td>setosa</td>\n",
       "    </tr>\n",
       "    <tr>\n",
       "      <th>4</th>\n",
       "      <td>5</td>\n",
       "      <td>5.0</td>\n",
       "      <td>3.6</td>\n",
       "      <td>1.4</td>\n",
       "      <td>0.2</td>\n",
       "      <td>setosa</td>\n",
       "    </tr>\n",
       "  </tbody>\n",
       "</table>\n",
       "</div>"
      ],
      "text/plain": [
       "   Id  SepalLengthCm  SepalWidthCm  PetalLengthCm  PetalWidthCm Species\n",
       "0   1            5.1           3.5            1.4           0.2  setosa\n",
       "1   2            4.9           3.0            1.4           0.2  setosa\n",
       "2   3            4.7           3.2            1.3           0.2  setosa\n",
       "3   4            4.6           3.1            1.5           0.2  setosa\n",
       "4   5            5.0           3.6            1.4           0.2  setosa"
      ]
     },
     "execution_count": 9,
     "metadata": {},
     "output_type": "execute_result"
    }
   ],
   "source": [
    "df.head()"
   ]
  },
  {
   "cell_type": "code",
   "execution_count": 10,
   "metadata": {},
   "outputs": [],
   "source": [
    "data=df.iloc[:,1:]"
   ]
  },
  {
   "cell_type": "code",
   "execution_count": 11,
   "metadata": {},
   "outputs": [
    {
     "data": {
      "text/plain": [
       "'3.10.11 (tags/v3.10.11:7d4cc5a, Apr  5 2023, 00:38:17) [MSC v.1929 64 bit (AMD64)]'"
      ]
     },
     "execution_count": 11,
     "metadata": {},
     "output_type": "execute_result"
    }
   ],
   "source": [
    "#version de python\n",
    "import sys\n",
    "sys.version"
   ]
  },
  {
   "cell_type": "code",
   "execution_count": 12,
   "metadata": {},
   "outputs": [
    {
     "data": {
      "text/plain": [
       "'3.2.0'"
      ]
     },
     "execution_count": 12,
     "metadata": {},
     "output_type": "execute_result"
    }
   ],
   "source": [
    "import pycaret\n",
    "pycaret.__version__"
   ]
  },
  {
   "cell_type": "code",
   "execution_count": 13,
   "metadata": {},
   "outputs": [
    {
     "data": {
      "text/plain": [
       "setosa        50\n",
       "versicolor    50\n",
       "virginica     50\n",
       "Name: Species, dtype: int64"
      ]
     },
     "execution_count": 13,
     "metadata": {},
     "output_type": "execute_result"
    }
   ],
   "source": [
    "data.Species.value_counts()"
   ]
  },
  {
   "cell_type": "code",
   "execution_count": 20,
   "metadata": {},
   "outputs": [
    {
     "data": {
      "text/html": [
       "<style type=\"text/css\">\n",
       "#T_b47da_row9_col1, #T_b47da_row13_col1 {\n",
       "  background-color: lightgreen;\n",
       "}\n",
       "</style>\n",
       "<table id=\"T_b47da\">\n",
       "  <thead>\n",
       "    <tr>\n",
       "      <th class=\"blank level0\" >&nbsp;</th>\n",
       "      <th id=\"T_b47da_level0_col0\" class=\"col_heading level0 col0\" >Description</th>\n",
       "      <th id=\"T_b47da_level0_col1\" class=\"col_heading level0 col1\" >Value</th>\n",
       "    </tr>\n",
       "  </thead>\n",
       "  <tbody>\n",
       "    <tr>\n",
       "      <th id=\"T_b47da_level0_row0\" class=\"row_heading level0 row0\" >0</th>\n",
       "      <td id=\"T_b47da_row0_col0\" class=\"data row0 col0\" >Session id</td>\n",
       "      <td id=\"T_b47da_row0_col1\" class=\"data row0 col1\" >2023</td>\n",
       "    </tr>\n",
       "    <tr>\n",
       "      <th id=\"T_b47da_level0_row1\" class=\"row_heading level0 row1\" >1</th>\n",
       "      <td id=\"T_b47da_row1_col0\" class=\"data row1 col0\" >Target</td>\n",
       "      <td id=\"T_b47da_row1_col1\" class=\"data row1 col1\" >Species</td>\n",
       "    </tr>\n",
       "    <tr>\n",
       "      <th id=\"T_b47da_level0_row2\" class=\"row_heading level0 row2\" >2</th>\n",
       "      <td id=\"T_b47da_row2_col0\" class=\"data row2 col0\" >Target type</td>\n",
       "      <td id=\"T_b47da_row2_col1\" class=\"data row2 col1\" >Multiclass</td>\n",
       "    </tr>\n",
       "    <tr>\n",
       "      <th id=\"T_b47da_level0_row3\" class=\"row_heading level0 row3\" >3</th>\n",
       "      <td id=\"T_b47da_row3_col0\" class=\"data row3 col0\" >Target mapping</td>\n",
       "      <td id=\"T_b47da_row3_col1\" class=\"data row3 col1\" >setosa: 0, versicolor: 1, virginica: 2</td>\n",
       "    </tr>\n",
       "    <tr>\n",
       "      <th id=\"T_b47da_level0_row4\" class=\"row_heading level0 row4\" >4</th>\n",
       "      <td id=\"T_b47da_row4_col0\" class=\"data row4 col0\" >Original data shape</td>\n",
       "      <td id=\"T_b47da_row4_col1\" class=\"data row4 col1\" >(150, 5)</td>\n",
       "    </tr>\n",
       "    <tr>\n",
       "      <th id=\"T_b47da_level0_row5\" class=\"row_heading level0 row5\" >5</th>\n",
       "      <td id=\"T_b47da_row5_col0\" class=\"data row5 col0\" >Transformed data shape</td>\n",
       "      <td id=\"T_b47da_row5_col1\" class=\"data row5 col1\" >(150, 5)</td>\n",
       "    </tr>\n",
       "    <tr>\n",
       "      <th id=\"T_b47da_level0_row6\" class=\"row_heading level0 row6\" >6</th>\n",
       "      <td id=\"T_b47da_row6_col0\" class=\"data row6 col0\" >Transformed train set shape</td>\n",
       "      <td id=\"T_b47da_row6_col1\" class=\"data row6 col1\" >(105, 5)</td>\n",
       "    </tr>\n",
       "    <tr>\n",
       "      <th id=\"T_b47da_level0_row7\" class=\"row_heading level0 row7\" >7</th>\n",
       "      <td id=\"T_b47da_row7_col0\" class=\"data row7 col0\" >Transformed test set shape</td>\n",
       "      <td id=\"T_b47da_row7_col1\" class=\"data row7 col1\" >(45, 5)</td>\n",
       "    </tr>\n",
       "    <tr>\n",
       "      <th id=\"T_b47da_level0_row8\" class=\"row_heading level0 row8\" >8</th>\n",
       "      <td id=\"T_b47da_row8_col0\" class=\"data row8 col0\" >Numeric features</td>\n",
       "      <td id=\"T_b47da_row8_col1\" class=\"data row8 col1\" >4</td>\n",
       "    </tr>\n",
       "    <tr>\n",
       "      <th id=\"T_b47da_level0_row9\" class=\"row_heading level0 row9\" >9</th>\n",
       "      <td id=\"T_b47da_row9_col0\" class=\"data row9 col0\" >Preprocess</td>\n",
       "      <td id=\"T_b47da_row9_col1\" class=\"data row9 col1\" >True</td>\n",
       "    </tr>\n",
       "    <tr>\n",
       "      <th id=\"T_b47da_level0_row10\" class=\"row_heading level0 row10\" >10</th>\n",
       "      <td id=\"T_b47da_row10_col0\" class=\"data row10 col0\" >Imputation type</td>\n",
       "      <td id=\"T_b47da_row10_col1\" class=\"data row10 col1\" >simple</td>\n",
       "    </tr>\n",
       "    <tr>\n",
       "      <th id=\"T_b47da_level0_row11\" class=\"row_heading level0 row11\" >11</th>\n",
       "      <td id=\"T_b47da_row11_col0\" class=\"data row11 col0\" >Numeric imputation</td>\n",
       "      <td id=\"T_b47da_row11_col1\" class=\"data row11 col1\" >mean</td>\n",
       "    </tr>\n",
       "    <tr>\n",
       "      <th id=\"T_b47da_level0_row12\" class=\"row_heading level0 row12\" >12</th>\n",
       "      <td id=\"T_b47da_row12_col0\" class=\"data row12 col0\" >Categorical imputation</td>\n",
       "      <td id=\"T_b47da_row12_col1\" class=\"data row12 col1\" >mode</td>\n",
       "    </tr>\n",
       "    <tr>\n",
       "      <th id=\"T_b47da_level0_row13\" class=\"row_heading level0 row13\" >13</th>\n",
       "      <td id=\"T_b47da_row13_col0\" class=\"data row13 col0\" >Normalize</td>\n",
       "      <td id=\"T_b47da_row13_col1\" class=\"data row13 col1\" >True</td>\n",
       "    </tr>\n",
       "    <tr>\n",
       "      <th id=\"T_b47da_level0_row14\" class=\"row_heading level0 row14\" >14</th>\n",
       "      <td id=\"T_b47da_row14_col0\" class=\"data row14 col0\" >Normalize method</td>\n",
       "      <td id=\"T_b47da_row14_col1\" class=\"data row14 col1\" >zscore</td>\n",
       "    </tr>\n",
       "    <tr>\n",
       "      <th id=\"T_b47da_level0_row15\" class=\"row_heading level0 row15\" >15</th>\n",
       "      <td id=\"T_b47da_row15_col0\" class=\"data row15 col0\" >Fold Generator</td>\n",
       "      <td id=\"T_b47da_row15_col1\" class=\"data row15 col1\" >StratifiedKFold</td>\n",
       "    </tr>\n",
       "    <tr>\n",
       "      <th id=\"T_b47da_level0_row16\" class=\"row_heading level0 row16\" >16</th>\n",
       "      <td id=\"T_b47da_row16_col0\" class=\"data row16 col0\" >Fold Number</td>\n",
       "      <td id=\"T_b47da_row16_col1\" class=\"data row16 col1\" >5</td>\n",
       "    </tr>\n",
       "    <tr>\n",
       "      <th id=\"T_b47da_level0_row17\" class=\"row_heading level0 row17\" >17</th>\n",
       "      <td id=\"T_b47da_row17_col0\" class=\"data row17 col0\" >CPU Jobs</td>\n",
       "      <td id=\"T_b47da_row17_col1\" class=\"data row17 col1\" >-1</td>\n",
       "    </tr>\n",
       "    <tr>\n",
       "      <th id=\"T_b47da_level0_row18\" class=\"row_heading level0 row18\" >18</th>\n",
       "      <td id=\"T_b47da_row18_col0\" class=\"data row18 col0\" >Use GPU</td>\n",
       "      <td id=\"T_b47da_row18_col1\" class=\"data row18 col1\" >False</td>\n",
       "    </tr>\n",
       "    <tr>\n",
       "      <th id=\"T_b47da_level0_row19\" class=\"row_heading level0 row19\" >19</th>\n",
       "      <td id=\"T_b47da_row19_col0\" class=\"data row19 col0\" >Log Experiment</td>\n",
       "      <td id=\"T_b47da_row19_col1\" class=\"data row19 col1\" >False</td>\n",
       "    </tr>\n",
       "    <tr>\n",
       "      <th id=\"T_b47da_level0_row20\" class=\"row_heading level0 row20\" >20</th>\n",
       "      <td id=\"T_b47da_row20_col0\" class=\"data row20 col0\" >Experiment Name</td>\n",
       "      <td id=\"T_b47da_row20_col1\" class=\"data row20 col1\" >clf-default-name</td>\n",
       "    </tr>\n",
       "    <tr>\n",
       "      <th id=\"T_b47da_level0_row21\" class=\"row_heading level0 row21\" >21</th>\n",
       "      <td id=\"T_b47da_row21_col0\" class=\"data row21 col0\" >USI</td>\n",
       "      <td id=\"T_b47da_row21_col1\" class=\"data row21 col1\" >d20e</td>\n",
       "    </tr>\n",
       "  </tbody>\n",
       "</table>\n"
      ],
      "text/plain": [
       "<pandas.io.formats.style.Styler at 0x206b1c88880>"
      ]
     },
     "metadata": {},
     "output_type": "display_data"
    },
    {
     "name": "stdout",
     "output_type": "stream",
     "text": [
      "<pycaret.classification.oop.ClassificationExperiment object at 0x00000206B1A7F9D0>\n"
     ]
    }
   ],
   "source": [
    "#expérimentation et développement du modèle\n",
    "from pycaret.classification import ClassificationExperiment\n",
    " #instanciation et initialisation\n",
    "session=ClassificationExperiment()\n",
    "session.setup(data,target=\"Species\",train_size=0.7,data_split_stratify=True,normalize=True,fold=5,session_id=2023)\n",
    "\n",
    "print(session)"
   ]
  },
  {
   "cell_type": "code",
   "execution_count": 21,
   "metadata": {},
   "outputs": [
    {
     "name": "stdout",
     "output_type": "stream",
     "text": [
      "                                     Name  \\\n",
      "ID                                          \n",
      "lr                    Logistic Regression   \n",
      "knn                K Neighbors Classifier   \n",
      "nb                            Naive Bayes   \n",
      "dt               Decision Tree Classifier   \n",
      "svm                   SVM - Linear Kernel   \n",
      "rbfsvm                SVM - Radial Kernel   \n",
      "gpc           Gaussian Process Classifier   \n",
      "mlp                        MLP Classifier   \n",
      "ridge                    Ridge Classifier   \n",
      "rf               Random Forest Classifier   \n",
      "qda       Quadratic Discriminant Analysis   \n",
      "ada                  Ada Boost Classifier   \n",
      "gbc          Gradient Boosting Classifier   \n",
      "lda          Linear Discriminant Analysis   \n",
      "et                 Extra Trees Classifier   \n",
      "lightgbm  Light Gradient Boosting Machine   \n",
      "dummy                    Dummy Classifier   \n",
      "\n",
      "                                                  Reference  Turbo  \n",
      "ID                                                                  \n",
      "lr        sklearn.linear_model._logistic.LogisticRegression   True  \n",
      "knn       sklearn.neighbors._classification.KNeighborsCl...   True  \n",
      "nb                           sklearn.naive_bayes.GaussianNB   True  \n",
      "dt             sklearn.tree._classes.DecisionTreeClassifier   True  \n",
      "svm       sklearn.linear_model._stochastic_gradient.SGDC...   True  \n",
      "rbfsvm                             sklearn.svm._classes.SVC  False  \n",
      "gpc       sklearn.gaussian_process._gpc.GaussianProcessC...  False  \n",
      "mlp       sklearn.neural_network._multilayer_perceptron....  False  \n",
      "ridge           sklearn.linear_model._ridge.RidgeClassifier   True  \n",
      "rf          sklearn.ensemble._forest.RandomForestClassifier   True  \n",
      "qda       sklearn.discriminant_analysis.QuadraticDiscrim...   True  \n",
      "ada       sklearn.ensemble._weight_boosting.AdaBoostClas...   True  \n",
      "gbc         sklearn.ensemble._gb.GradientBoostingClassifier   True  \n",
      "lda       sklearn.discriminant_analysis.LinearDiscrimina...   True  \n",
      "et            sklearn.ensemble._forest.ExtraTreesClassifier   True  \n",
      "lightgbm                    lightgbm.sklearn.LGBMClassifier   True  \n",
      "dummy                         sklearn.dummy.DummyClassifier   True  \n"
     ]
    }
   ],
   "source": [
    "#lister les algo dispo pour la classification de la\n",
    "algos=session.models()\n",
    "print(algos)"
   ]
  },
  {
   "cell_type": "code",
   "execution_count": 22,
   "metadata": {},
   "outputs": [
    {
     "data": {
      "text/html": [
       "<div>\n",
       "<style scoped>\n",
       "    .dataframe tbody tr th:only-of-type {\n",
       "        vertical-align: middle;\n",
       "    }\n",
       "\n",
       "    .dataframe tbody tr th {\n",
       "        vertical-align: top;\n",
       "    }\n",
       "\n",
       "    .dataframe thead th {\n",
       "        text-align: right;\n",
       "    }\n",
       "</style>\n",
       "<table border=\"1\" class=\"dataframe\">\n",
       "  <thead>\n",
       "    <tr style=\"text-align: right;\">\n",
       "      <th></th>\n",
       "      <th></th>\n",
       "      <th></th>\n",
       "    </tr>\n",
       "    <tr>\n",
       "      <th></th>\n",
       "      <th></th>\n",
       "      <th></th>\n",
       "    </tr>\n",
       "  </thead>\n",
       "  <tbody>\n",
       "    <tr>\n",
       "      <th>Initiated</th>\n",
       "      <td>. . . . . . . . . . . . . . . . . .</td>\n",
       "      <td>04:55:23</td>\n",
       "    </tr>\n",
       "    <tr>\n",
       "      <th>Status</th>\n",
       "      <td>. . . . . . . . . . . . . . . . . .</td>\n",
       "      <td>Loading Dependencies</td>\n",
       "    </tr>\n",
       "    <tr>\n",
       "      <th>Estimator</th>\n",
       "      <td>. . . . . . . . . . . . . . . . . .</td>\n",
       "      <td>Compiling Library</td>\n",
       "    </tr>\n",
       "  </tbody>\n",
       "</table>\n",
       "</div>"
      ],
      "text/plain": [
       "                                                                    \n",
       "                                                                    \n",
       "Initiated  . . . . . . . . . . . . . . . . . .              04:55:23\n",
       "Status     . . . . . . . . . . . . . . . . . .  Loading Dependencies\n",
       "Estimator  . . . . . . . . . . . . . . . . . .     Compiling Library"
      ]
     },
     "metadata": {},
     "output_type": "display_data"
    },
    {
     "data": {
      "text/html": [
       "<style type=\"text/css\">\n",
       "#T_164b6_row5_col0, #T_164b6_row5_col1, #T_164b6_row5_col2, #T_164b6_row5_col3, #T_164b6_row5_col4, #T_164b6_row5_col5, #T_164b6_row5_col6 {\n",
       "  background: yellow;\n",
       "}\n",
       "</style>\n",
       "<table id=\"T_164b6\">\n",
       "  <thead>\n",
       "    <tr>\n",
       "      <th class=\"blank level0\" >&nbsp;</th>\n",
       "      <th id=\"T_164b6_level0_col0\" class=\"col_heading level0 col0\" >Accuracy</th>\n",
       "      <th id=\"T_164b6_level0_col1\" class=\"col_heading level0 col1\" >AUC</th>\n",
       "      <th id=\"T_164b6_level0_col2\" class=\"col_heading level0 col2\" >Recall</th>\n",
       "      <th id=\"T_164b6_level0_col3\" class=\"col_heading level0 col3\" >Prec.</th>\n",
       "      <th id=\"T_164b6_level0_col4\" class=\"col_heading level0 col4\" >F1</th>\n",
       "      <th id=\"T_164b6_level0_col5\" class=\"col_heading level0 col5\" >Kappa</th>\n",
       "      <th id=\"T_164b6_level0_col6\" class=\"col_heading level0 col6\" >MCC</th>\n",
       "    </tr>\n",
       "    <tr>\n",
       "      <th class=\"index_name level0\" >Fold</th>\n",
       "      <th class=\"blank col0\" >&nbsp;</th>\n",
       "      <th class=\"blank col1\" >&nbsp;</th>\n",
       "      <th class=\"blank col2\" >&nbsp;</th>\n",
       "      <th class=\"blank col3\" >&nbsp;</th>\n",
       "      <th class=\"blank col4\" >&nbsp;</th>\n",
       "      <th class=\"blank col5\" >&nbsp;</th>\n",
       "      <th class=\"blank col6\" >&nbsp;</th>\n",
       "    </tr>\n",
       "  </thead>\n",
       "  <tbody>\n",
       "    <tr>\n",
       "      <th id=\"T_164b6_level0_row0\" class=\"row_heading level0 row0\" >0</th>\n",
       "      <td id=\"T_164b6_row0_col0\" class=\"data row0 col0\" >0.9524</td>\n",
       "      <td id=\"T_164b6_row0_col1\" class=\"data row0 col1\" >1.0000</td>\n",
       "      <td id=\"T_164b6_row0_col2\" class=\"data row0 col2\" >0.9524</td>\n",
       "      <td id=\"T_164b6_row0_col3\" class=\"data row0 col3\" >0.9583</td>\n",
       "      <td id=\"T_164b6_row0_col4\" class=\"data row0 col4\" >0.9521</td>\n",
       "      <td id=\"T_164b6_row0_col5\" class=\"data row0 col5\" >0.9286</td>\n",
       "      <td id=\"T_164b6_row0_col6\" class=\"data row0 col6\" >0.9317</td>\n",
       "    </tr>\n",
       "    <tr>\n",
       "      <th id=\"T_164b6_level0_row1\" class=\"row_heading level0 row1\" >1</th>\n",
       "      <td id=\"T_164b6_row1_col0\" class=\"data row1 col0\" >0.9048</td>\n",
       "      <td id=\"T_164b6_row1_col1\" class=\"data row1 col1\" >0.9932</td>\n",
       "      <td id=\"T_164b6_row1_col2\" class=\"data row1 col2\" >0.9048</td>\n",
       "      <td id=\"T_164b6_row1_col3\" class=\"data row1 col3\" >0.9048</td>\n",
       "      <td id=\"T_164b6_row1_col4\" class=\"data row1 col4\" >0.9048</td>\n",
       "      <td id=\"T_164b6_row1_col5\" class=\"data row1 col5\" >0.8571</td>\n",
       "      <td id=\"T_164b6_row1_col6\" class=\"data row1 col6\" >0.8571</td>\n",
       "    </tr>\n",
       "    <tr>\n",
       "      <th id=\"T_164b6_level0_row2\" class=\"row_heading level0 row2\" >2</th>\n",
       "      <td id=\"T_164b6_row2_col0\" class=\"data row2 col0\" >1.0000</td>\n",
       "      <td id=\"T_164b6_row2_col1\" class=\"data row2 col1\" >1.0000</td>\n",
       "      <td id=\"T_164b6_row2_col2\" class=\"data row2 col2\" >1.0000</td>\n",
       "      <td id=\"T_164b6_row2_col3\" class=\"data row2 col3\" >1.0000</td>\n",
       "      <td id=\"T_164b6_row2_col4\" class=\"data row2 col4\" >1.0000</td>\n",
       "      <td id=\"T_164b6_row2_col5\" class=\"data row2 col5\" >1.0000</td>\n",
       "      <td id=\"T_164b6_row2_col6\" class=\"data row2 col6\" >1.0000</td>\n",
       "    </tr>\n",
       "    <tr>\n",
       "      <th id=\"T_164b6_level0_row3\" class=\"row_heading level0 row3\" >3</th>\n",
       "      <td id=\"T_164b6_row3_col0\" class=\"data row3 col0\" >0.9524</td>\n",
       "      <td id=\"T_164b6_row3_col1\" class=\"data row3 col1\" >1.0000</td>\n",
       "      <td id=\"T_164b6_row3_col2\" class=\"data row3 col2\" >0.9524</td>\n",
       "      <td id=\"T_164b6_row3_col3\" class=\"data row3 col3\" >0.9583</td>\n",
       "      <td id=\"T_164b6_row3_col4\" class=\"data row3 col4\" >0.9521</td>\n",
       "      <td id=\"T_164b6_row3_col5\" class=\"data row3 col5\" >0.9286</td>\n",
       "      <td id=\"T_164b6_row3_col6\" class=\"data row3 col6\" >0.9317</td>\n",
       "    </tr>\n",
       "    <tr>\n",
       "      <th id=\"T_164b6_level0_row4\" class=\"row_heading level0 row4\" >4</th>\n",
       "      <td id=\"T_164b6_row4_col0\" class=\"data row4 col0\" >0.9524</td>\n",
       "      <td id=\"T_164b6_row4_col1\" class=\"data row4 col1\" >1.0000</td>\n",
       "      <td id=\"T_164b6_row4_col2\" class=\"data row4 col2\" >0.9524</td>\n",
       "      <td id=\"T_164b6_row4_col3\" class=\"data row4 col3\" >0.9583</td>\n",
       "      <td id=\"T_164b6_row4_col4\" class=\"data row4 col4\" >0.9521</td>\n",
       "      <td id=\"T_164b6_row4_col5\" class=\"data row4 col5\" >0.9286</td>\n",
       "      <td id=\"T_164b6_row4_col6\" class=\"data row4 col6\" >0.9317</td>\n",
       "    </tr>\n",
       "    <tr>\n",
       "      <th id=\"T_164b6_level0_row5\" class=\"row_heading level0 row5\" >Mean</th>\n",
       "      <td id=\"T_164b6_row5_col0\" class=\"data row5 col0\" >0.9524</td>\n",
       "      <td id=\"T_164b6_row5_col1\" class=\"data row5 col1\" >0.9986</td>\n",
       "      <td id=\"T_164b6_row5_col2\" class=\"data row5 col2\" >0.9524</td>\n",
       "      <td id=\"T_164b6_row5_col3\" class=\"data row5 col3\" >0.9560</td>\n",
       "      <td id=\"T_164b6_row5_col4\" class=\"data row5 col4\" >0.9522</td>\n",
       "      <td id=\"T_164b6_row5_col5\" class=\"data row5 col5\" >0.9286</td>\n",
       "      <td id=\"T_164b6_row5_col6\" class=\"data row5 col6\" >0.9305</td>\n",
       "    </tr>\n",
       "    <tr>\n",
       "      <th id=\"T_164b6_level0_row6\" class=\"row_heading level0 row6\" >Std</th>\n",
       "      <td id=\"T_164b6_row6_col0\" class=\"data row6 col0\" >0.0301</td>\n",
       "      <td id=\"T_164b6_row6_col1\" class=\"data row6 col1\" >0.0027</td>\n",
       "      <td id=\"T_164b6_row6_col2\" class=\"data row6 col2\" >0.0301</td>\n",
       "      <td id=\"T_164b6_row6_col3\" class=\"data row6 col3\" >0.0303</td>\n",
       "      <td id=\"T_164b6_row6_col4\" class=\"data row6 col4\" >0.0301</td>\n",
       "      <td id=\"T_164b6_row6_col5\" class=\"data row6 col5\" >0.0452</td>\n",
       "      <td id=\"T_164b6_row6_col6\" class=\"data row6 col6\" >0.0452</td>\n",
       "    </tr>\n",
       "  </tbody>\n",
       "</table>\n"
      ],
      "text/plain": [
       "<pandas.io.formats.style.Styler at 0x206b175b9d0>"
      ]
     },
     "metadata": {},
     "output_type": "display_data"
    },
    {
     "data": {
      "text/html": [],
      "text/plain": [
       "<IPython.core.display.HTML object>"
      ]
     },
     "metadata": {},
     "output_type": "display_data"
    },
    {
     "name": "stdout",
     "output_type": "stream",
     "text": [
      "LogisticRegression(C=1.0, class_weight=None, dual=False, fit_intercept=True,\n",
      "                   intercept_scaling=1, l1_ratio=None, max_iter=1000,\n",
      "                   multi_class='auto', n_jobs=None, penalty='l2',\n",
      "                   random_state=2023, solver='lbfgs', tol=0.0001, verbose=0,\n",
      "                   warm_start=False)\n"
     ]
    }
   ],
   "source": [
    "# prenons la regression logistique\n",
    "modele=session.create_model(\"lr\")\n",
    "print(modele)"
   ]
  },
  {
   "cell_type": "code",
   "execution_count": 23,
   "metadata": {},
   "outputs": [
    {
     "data": {
      "text/html": [],
      "text/plain": [
       "<IPython.core.display.HTML object>"
      ]
     },
     "metadata": {},
     "output_type": "display_data"
    },
    {
     "name": "stdout",
     "output_type": "stream",
     "text": [
      "        Species prediction_label  prediction_score\n",
      "131   virginica        virginica            0.9320\n",
      "44       setosa           setosa            0.9868\n",
      "55   versicolor       versicolor            0.8332\n",
      "13       setosa           setosa            0.9849\n",
      "17       setosa           setosa            0.9791\n",
      "108   virginica        virginica            0.8709\n",
      "33       setosa           setosa            0.9960\n",
      "69   versicolor       versicolor            0.9298\n",
      "107   virginica        virginica            0.9059\n",
      "28       setosa           setosa            0.9694\n",
      "142   virginica        virginica            0.8013\n",
      "77   versicolor        virginica            0.5445\n",
      "43       setosa           setosa            0.9708\n",
      "73   versicolor       versicolor            0.8688\n",
      "98   versicolor       versicolor            0.8341\n",
      "86   versicolor       versicolor            0.7377\n",
      "101   virginica        virginica            0.8013\n",
      "115   virginica        virginica            0.9478\n",
      "136   virginica        virginica            0.9732\n",
      "3        setosa           setosa            0.9709\n",
      "90   versicolor       versicolor            0.8736\n",
      "24       setosa           setosa            0.9782\n",
      "141   virginica        virginica            0.9326\n",
      "23       setosa           setosa            0.9373\n",
      "96   versicolor       versicolor            0.8536\n",
      "88   versicolor       versicolor            0.8258\n",
      "113   virginica        virginica            0.8567\n",
      "140   virginica        virginica            0.9761\n",
      "61   versicolor       versicolor            0.7925\n",
      "32       setosa           setosa            0.9970\n",
      "22       setosa           setosa            0.9961\n",
      "95   versicolor       versicolor            0.8523\n",
      "5        setosa           setosa            0.9858\n",
      "84   versicolor       versicolor            0.6958\n",
      "100   virginica        virginica            0.9898\n",
      "87   versicolor       versicolor            0.8519\n",
      "6        setosa           setosa            0.9884\n",
      "133   virginica       versicolor            0.5772\n",
      "81   versicolor       versicolor            0.9405\n",
      "25       setosa           setosa            0.9135\n",
      "114   virginica        virginica            0.9657\n",
      "51   versicolor       versicolor            0.7739\n",
      "130   virginica        virginica            0.9200\n",
      "37       setosa           setosa            0.9558\n",
      "126   virginica        virginica            0.6203\n"
     ]
    }
   ],
   "source": [
    "# evaluation du modèle sur l'echantillon test\n",
    "res=session.predict_model(modele)\n",
    "print(res[[\"Species\",\"prediction_label\",\"prediction_score\"]])"
   ]
  },
  {
   "cell_type": "code",
   "execution_count": 24,
   "metadata": {},
   "outputs": [
    {
     "data": {
      "text/html": [],
      "text/plain": [
       "<IPython.core.display.HTML object>"
      ]
     },
     "metadata": {},
     "output_type": "display_data"
    },
    {
     "data": {
      "image/png": "[encoded data removed]",
      "text/plain": [
       "<Figure size 800x500 with 1 Axes>"
      ]
     },
     "metadata": {},
     "output_type": "display_data"
    }
   ],
   "source": [
    "#importance des variables\n",
    "session.plot_model(modele,plot=\"feature\")"
   ]
  },
  {
   "cell_type": "code",
   "execution_count": 25,
   "metadata": {},
   "outputs": [
    {
     "data": {
      "text/html": [
       "<style>#sk-container-id-2 {color: black;background-color: white;}#sk-container-id-2 pre{padding: 0;}#sk-container-id-2 div.sk-toggleable {background-color: white;}#sk-container-id-2 label.sk-toggleable__label {cursor: pointer;display: block;width: 100%;margin-bottom: 0;padding: 0.3em;box-sizing: border-box;text-align: center;}#sk-container-id-2 label.sk-toggleable__label-arrow:before {content: \"▸\";float: left;margin-right: 0.25em;color: #696969;}#sk-container-id-2 label.sk-toggleable__label-arrow:hover:before {color: black;}#sk-container-id-2 div.sk-estimator:hover label.sk-toggleable__label-arrow:before {color: black;}#sk-container-id-2 div.sk-toggleable__content {max-height: 0;max-width: 0;overflow: hidden;text-align: left;background-color: #f0f8ff;}#sk-container-id-2 div.sk-toggleable__content pre {margin: 0.2em;color: black;border-radius: 0.25em;background-color: #f0f8ff;}#sk-container-id-2 input.sk-toggleable__control:checked~div.sk-toggleable__content {max-height: 200px;max-width: 100%;overflow: auto;}#sk-container-id-2 input.sk-toggleable__control:checked~label.sk-toggleable__label-arrow:before {content: \"▾\";}#sk-container-id-2 div.sk-estimator input.sk-toggleable__control:checked~label.sk-toggleable__label {background-color: #d4ebff;}#sk-container-id-2 div.sk-label input.sk-toggleable__control:checked~label.sk-toggleable__label {background-color: #d4ebff;}#sk-container-id-2 input.sk-hidden--visually {border: 0;clip: rect(1px 1px 1px 1px);clip: rect(1px, 1px, 1px, 1px);height: 1px;margin: -1px;overflow: hidden;padding: 0;position: absolute;width: 1px;}#sk-container-id-2 div.sk-estimator {font-family: monospace;background-color: #f0f8ff;border: 1px dotted black;border-radius: 0.25em;box-sizing: border-box;margin-bottom: 0.5em;}#sk-container-id-2 div.sk-estimator:hover {background-color: #d4ebff;}#sk-container-id-2 div.sk-parallel-item::after {content: \"\";width: 100%;border-bottom: 1px solid gray;flex-grow: 1;}#sk-container-id-2 div.sk-label:hover label.sk-toggleable__label {background-color: #d4ebff;}#sk-container-id-2 div.sk-serial::before {content: \"\";position: absolute;border-left: 1px solid gray;box-sizing: border-box;top: 0;bottom: 0;left: 50%;z-index: 0;}#sk-container-id-2 div.sk-serial {display: flex;flex-direction: column;align-items: center;background-color: white;padding-right: 0.2em;padding-left: 0.2em;position: relative;}#sk-container-id-2 div.sk-item {position: relative;z-index: 1;}#sk-container-id-2 div.sk-parallel {display: flex;align-items: stretch;justify-content: center;background-color: white;position: relative;}#sk-container-id-2 div.sk-item::before, #sk-container-id-2 div.sk-parallel-item::before {content: \"\";position: absolute;border-left: 1px solid gray;box-sizing: border-box;top: 0;bottom: 0;left: 50%;z-index: -1;}#sk-container-id-2 div.sk-parallel-item {display: flex;flex-direction: column;z-index: 1;position: relative;background-color: white;}#sk-container-id-2 div.sk-parallel-item:first-child::after {align-self: flex-end;width: 50%;}#sk-container-id-2 div.sk-parallel-item:last-child::after {align-self: flex-start;width: 50%;}#sk-container-id-2 div.sk-parallel-item:only-child::after {width: 0;}#sk-container-id-2 div.sk-dashed-wrapped {border: 1px dashed gray;margin: 0 0.4em 0.5em 0.4em;box-sizing: border-box;padding-bottom: 0.4em;background-color: white;}#sk-container-id-2 div.sk-label label {font-family: monospace;font-weight: bold;display: inline-block;line-height: 1.2em;}#sk-container-id-2 div.sk-label-container {text-align: center;}#sk-container-id-2 div.sk-container {/* jupyter's `normalize.less` sets `[hidden] { display: none; }` but bootstrap.min.css set `[hidden] { display: none !important; }` so we also need the `!important` here to be able to override the default hidden behavior on the sphinx rendered scikit-learn.org. See: https://github.com/scikit-learn/scikit-learn/issues/21755 */display: inline-block !important;position: relative;}#sk-container-id-2 div.sk-text-repr-fallback {display: none;}</style><div id=\"sk-container-id-2\" class=\"sk-top-container\"><div class=\"sk-text-repr-fallback\"><pre>Pipeline(memory=Memory(location=None),\n",
       "         steps=[(&#x27;label_encoding&#x27;,\n",
       "                 TransformerWrapperWithInverse(exclude=None, include=None,\n",
       "                                               transformer=LabelEncoder())),\n",
       "                (&#x27;numerical_imputer&#x27;,\n",
       "                 TransformerWrapper(exclude=None,\n",
       "                                    include=[&#x27;SepalLengthCm&#x27;, &#x27;SepalWidthCm&#x27;,\n",
       "                                             &#x27;PetalLengthCm&#x27;, &#x27;PetalWidthCm&#x27;],\n",
       "                                    transformer=SimpleImputer(add_indicator=False,\n",
       "                                                              copy=True,\n",
       "                                                              fill_value=None,\n",
       "                                                              missi...\n",
       "                 TransformerWrapper(exclude=None, include=None,\n",
       "                                    transformer=StandardScaler(copy=True,\n",
       "                                                               with_mean=True,\n",
       "                                                               with_std=True))),\n",
       "                (&#x27;actual_estimator&#x27;,\n",
       "                 LogisticRegression(C=1.0, class_weight=None, dual=False,\n",
       "                                    fit_intercept=True, intercept_scaling=1,\n",
       "                                    l1_ratio=None, max_iter=1000,\n",
       "                                    multi_class=&#x27;auto&#x27;, n_jobs=None,\n",
       "                                    penalty=&#x27;l2&#x27;, random_state=2023,\n",
       "                                    solver=&#x27;lbfgs&#x27;, tol=0.0001, verbose=0,\n",
       "                                    warm_start=False))],\n",
       "         verbose=False)</pre><b>In a Jupyter environment, please rerun this cell to show the HTML representation or trust the notebook. <br />On GitHub, the HTML representation is unable to render, please try loading this page with nbviewer.org.</b></div><div class=\"sk-container\" hidden><div class=\"sk-item sk-dashed-wrapped\"><div class=\"sk-label-container\"><div class=\"sk-label sk-toggleable\"><input class=\"sk-toggleable__control sk-hidden--visually\" id=\"sk-estimator-id-12\" type=\"checkbox\" ><label for=\"sk-estimator-id-12\" class=\"sk-toggleable__label sk-toggleable__label-arrow\">Pipeline</label><div class=\"sk-toggleable__content\"><pre>Pipeline(memory=Memory(location=None),\n",
       "         steps=[(&#x27;label_encoding&#x27;,\n",
       "                 TransformerWrapperWithInverse(exclude=None, include=None,\n",
       "                                               transformer=LabelEncoder())),\n",
       "                (&#x27;numerical_imputer&#x27;,\n",
       "                 TransformerWrapper(exclude=None,\n",
       "                                    include=[&#x27;SepalLengthCm&#x27;, &#x27;SepalWidthCm&#x27;,\n",
       "                                             &#x27;PetalLengthCm&#x27;, &#x27;PetalWidthCm&#x27;],\n",
       "                                    transformer=SimpleImputer(add_indicator=False,\n",
       "                                                              copy=True,\n",
       "                                                              fill_value=None,\n",
       "                                                              missi...\n",
       "                 TransformerWrapper(exclude=None, include=None,\n",
       "                                    transformer=StandardScaler(copy=True,\n",
       "                                                               with_mean=True,\n",
       "                                                               with_std=True))),\n",
       "                (&#x27;actual_estimator&#x27;,\n",
       "                 LogisticRegression(C=1.0, class_weight=None, dual=False,\n",
       "                                    fit_intercept=True, intercept_scaling=1,\n",
       "                                    l1_ratio=None, max_iter=1000,\n",
       "                                    multi_class=&#x27;auto&#x27;, n_jobs=None,\n",
       "                                    penalty=&#x27;l2&#x27;, random_state=2023,\n",
       "                                    solver=&#x27;lbfgs&#x27;, tol=0.0001, verbose=0,\n",
       "                                    warm_start=False))],\n",
       "         verbose=False)</pre></div></div></div><div class=\"sk-serial\"><div class=\"sk-item sk-dashed-wrapped\"><div class=\"sk-label-container\"><div class=\"sk-label sk-toggleable\"><input class=\"sk-toggleable__control sk-hidden--visually\" id=\"sk-estimator-id-13\" type=\"checkbox\" ><label for=\"sk-estimator-id-13\" class=\"sk-toggleable__label sk-toggleable__label-arrow\">label_encoding: TransformerWrapperWithInverse</label><div class=\"sk-toggleable__content\"><pre>TransformerWrapperWithInverse(exclude=None, include=None,\n",
       "                              transformer=LabelEncoder())</pre></div></div></div><div class=\"sk-parallel\"><div class=\"sk-parallel-item\"><div class=\"sk-item\"><div class=\"sk-label-container\"><div class=\"sk-label sk-toggleable\"><input class=\"sk-toggleable__control sk-hidden--visually\" id=\"sk-estimator-id-14\" type=\"checkbox\" ><label for=\"sk-estimator-id-14\" class=\"sk-toggleable__label sk-toggleable__label-arrow\">transformer: LabelEncoder</label><div class=\"sk-toggleable__content\"><pre>LabelEncoder()</pre></div></div></div><div class=\"sk-serial\"><div class=\"sk-item\"><div class=\"sk-estimator sk-toggleable\"><input class=\"sk-toggleable__control sk-hidden--visually\" id=\"sk-estimator-id-15\" type=\"checkbox\" ><label for=\"sk-estimator-id-15\" class=\"sk-toggleable__label sk-toggleable__label-arrow\">LabelEncoder</label><div class=\"sk-toggleable__content\"><pre>LabelEncoder()</pre></div></div></div></div></div></div></div></div><div class=\"sk-item sk-dashed-wrapped\"><div class=\"sk-label-container\"><div class=\"sk-label sk-toggleable\"><input class=\"sk-toggleable__control sk-hidden--visually\" id=\"sk-estimator-id-16\" type=\"checkbox\" ><label for=\"sk-estimator-id-16\" class=\"sk-toggleable__label sk-toggleable__label-arrow\">numerical_imputer: TransformerWrapper</label><div class=\"sk-toggleable__content\"><pre>TransformerWrapper(exclude=None,\n",
       "                   include=[&#x27;SepalLengthCm&#x27;, &#x27;SepalWidthCm&#x27;, &#x27;PetalLengthCm&#x27;,\n",
       "                            &#x27;PetalWidthCm&#x27;],\n",
       "                   transformer=SimpleImputer(add_indicator=False, copy=True,\n",
       "                                             fill_value=None,\n",
       "                                             missing_values=nan,\n",
       "                                             strategy=&#x27;mean&#x27;,\n",
       "                                             verbose=&#x27;deprecated&#x27;))</pre></div></div></div><div class=\"sk-parallel\"><div class=\"sk-parallel-item\"><div class=\"sk-item\"><div class=\"sk-label-container\"><div class=\"sk-label sk-toggleable\"><input class=\"sk-toggleable__control sk-hidden--visually\" id=\"sk-estimator-id-17\" type=\"checkbox\" ><label for=\"sk-estimator-id-17\" class=\"sk-toggleable__label sk-toggleable__label-arrow\">transformer: SimpleImputer</label><div class=\"sk-toggleable__content\"><pre>SimpleImputer()</pre></div></div></div><div class=\"sk-serial\"><div class=\"sk-item\"><div class=\"sk-estimator sk-toggleable\"><input class=\"sk-toggleable__control sk-hidden--visually\" id=\"sk-estimator-id-18\" type=\"checkbox\" ><label for=\"sk-estimator-id-18\" class=\"sk-toggleable__label sk-toggleable__label-arrow\">SimpleImputer</label><div class=\"sk-toggleable__content\"><pre>SimpleImputer()</pre></div></div></div></div></div></div></div></div><div class=\"sk-item sk-dashed-wrapped\"><div class=\"sk-label-container\"><div class=\"sk-label sk-toggleable\"><input class=\"sk-toggleable__control sk-hidden--visually\" id=\"sk-estimator-id-19\" type=\"checkbox\" ><label for=\"sk-estimator-id-19\" class=\"sk-toggleable__label sk-toggleable__label-arrow\">categorical_imputer: TransformerWrapper</label><div class=\"sk-toggleable__content\"><pre>TransformerWrapper(exclude=None, include=[],\n",
       "                   transformer=SimpleImputer(add_indicator=False, copy=True,\n",
       "                                             fill_value=None,\n",
       "                                             missing_values=nan,\n",
       "                                             strategy=&#x27;most_frequent&#x27;,\n",
       "                                             verbose=&#x27;deprecated&#x27;))</pre></div></div></div><div class=\"sk-parallel\"><div class=\"sk-parallel-item\"><div class=\"sk-item\"><div class=\"sk-label-container\"><div class=\"sk-label sk-toggleable\"><input class=\"sk-toggleable__control sk-hidden--visually\" id=\"sk-estimator-id-20\" type=\"checkbox\" ><label for=\"sk-estimator-id-20\" class=\"sk-toggleable__label sk-toggleable__label-arrow\">transformer: SimpleImputer</label><div class=\"sk-toggleable__content\"><pre>SimpleImputer(strategy=&#x27;most_frequent&#x27;)</pre></div></div></div><div class=\"sk-serial\"><div class=\"sk-item\"><div class=\"sk-estimator sk-toggleable\"><input class=\"sk-toggleable__control sk-hidden--visually\" id=\"sk-estimator-id-21\" type=\"checkbox\" ><label for=\"sk-estimator-id-21\" class=\"sk-toggleable__label sk-toggleable__label-arrow\">SimpleImputer</label><div class=\"sk-toggleable__content\"><pre>SimpleImputer(strategy=&#x27;most_frequent&#x27;)</pre></div></div></div></div></div></div></div></div><div class=\"sk-item sk-dashed-wrapped\"><div class=\"sk-label-container\"><div class=\"sk-label sk-toggleable\"><input class=\"sk-toggleable__control sk-hidden--visually\" id=\"sk-estimator-id-22\" type=\"checkbox\" ><label for=\"sk-estimator-id-22\" class=\"sk-toggleable__label sk-toggleable__label-arrow\">normalize: TransformerWrapper</label><div class=\"sk-toggleable__content\"><pre>TransformerWrapper(exclude=None, include=None,\n",
       "                   transformer=StandardScaler(copy=True, with_mean=True,\n",
       "                                              with_std=True))</pre></div></div></div><div class=\"sk-parallel\"><div class=\"sk-parallel-item\"><div class=\"sk-item\"><div class=\"sk-label-container\"><div class=\"sk-label sk-toggleable\"><input class=\"sk-toggleable__control sk-hidden--visually\" id=\"sk-estimator-id-23\" type=\"checkbox\" ><label for=\"sk-estimator-id-23\" class=\"sk-toggleable__label sk-toggleable__label-arrow\">transformer: StandardScaler</label><div class=\"sk-toggleable__content\"><pre>StandardScaler()</pre></div></div></div><div class=\"sk-serial\"><div class=\"sk-item\"><div class=\"sk-estimator sk-toggleable\"><input class=\"sk-toggleable__control sk-hidden--visually\" id=\"sk-estimator-id-24\" type=\"checkbox\" ><label for=\"sk-estimator-id-24\" class=\"sk-toggleable__label sk-toggleable__label-arrow\">StandardScaler</label><div class=\"sk-toggleable__content\"><pre>StandardScaler()</pre></div></div></div></div></div></div></div></div><div class=\"sk-item\"><div class=\"sk-estimator sk-toggleable\"><input class=\"sk-toggleable__control sk-hidden--visually\" id=\"sk-estimator-id-25\" type=\"checkbox\" ><label for=\"sk-estimator-id-25\" class=\"sk-toggleable__label sk-toggleable__label-arrow\">LogisticRegression</label><div class=\"sk-toggleable__content\"><pre>LogisticRegression(max_iter=1000, random_state=2023)</pre></div></div></div></div></div></div></div>"
      ],
      "text/plain": [
       "Pipeline(memory=Memory(location=None),\n",
       "         steps=[('label_encoding',\n",
       "                 TransformerWrapperWithInverse(exclude=None, include=None,\n",
       "                                               transformer=LabelEncoder())),\n",
       "                ('numerical_imputer',\n",
       "                 TransformerWrapper(exclude=None,\n",
       "                                    include=['SepalLengthCm', 'SepalWidthCm',\n",
       "                                             'PetalLengthCm', 'PetalWidthCm'],\n",
       "                                    transformer=SimpleImputer(add_indicator=False,\n",
       "                                                              copy=True,\n",
       "                                                              fill_value=None,\n",
       "                                                              missi...\n",
       "                 TransformerWrapper(exclude=None, include=None,\n",
       "                                    transformer=StandardScaler(copy=True,\n",
       "                                                               with_mean=True,\n",
       "                                                               with_std=True))),\n",
       "                ('actual_estimator',\n",
       "                 LogisticRegression(C=1.0, class_weight=None, dual=False,\n",
       "                                    fit_intercept=True, intercept_scaling=1,\n",
       "                                    l1_ratio=None, max_iter=1000,\n",
       "                                    multi_class='auto', n_jobs=None,\n",
       "                                    penalty='l2', random_state=2023,\n",
       "                                    solver='lbfgs', tol=0.0001, verbose=0,\n",
       "                                    warm_start=False))],\n",
       "         verbose=False)"
      ]
     },
     "execution_count": 25,
     "metadata": {},
     "output_type": "execute_result"
    }
   ],
   "source": [
    "#model définitif entrainé sur la totalité des données\n",
    "modele_final=session.finalize_model(modele)\n",
    "#c'est un pipiline en créalité\n",
    "# avec un preprocessing par défaut\n",
    "modele_final"
   ]
  },
  {
   "cell_type": "code",
   "execution_count": 26,
   "metadata": {},
   "outputs": [
    {
     "name": "stdout",
     "output_type": "stream",
     "text": [
      "Transformation Pipeline and Model Successfully Saved\n"
     ]
    },
    {
     "data": {
      "text/plain": [
       "(Pipeline(memory=Memory(location=None),\n",
       "          steps=[('label_encoding',\n",
       "                  TransformerWrapperWithInverse(exclude=None, include=None,\n",
       "                                                transformer=LabelEncoder())),\n",
       "                 ('numerical_imputer',\n",
       "                  TransformerWrapper(exclude=None,\n",
       "                                     include=['SepalLengthCm', 'SepalWidthCm',\n",
       "                                              'PetalLengthCm', 'PetalWidthCm'],\n",
       "                                     transformer=SimpleImputer(add_indicator=False,\n",
       "                                                               copy=True,\n",
       "                                                               fill_value=None,\n",
       "                                                               missi...\n",
       "                  TransformerWrapper(exclude=None, include=None,\n",
       "                                     transformer=StandardScaler(copy=True,\n",
       "                                                                with_mean=True,\n",
       "                                                                with_std=True))),\n",
       "                 ('actual_estimator',\n",
       "                  LogisticRegression(C=1.0, class_weight=None, dual=False,\n",
       "                                     fit_intercept=True, intercept_scaling=1,\n",
       "                                     l1_ratio=None, max_iter=1000,\n",
       "                                     multi_class='auto', n_jobs=None,\n",
       "                                     penalty='l2', random_state=2023,\n",
       "                                     solver='lbfgs', tol=0.0001, verbose=0,\n",
       "                                     warm_start=False))],\n",
       "          verbose=False),\n",
       " 'modele_trained.pkl')"
      ]
     },
     "execution_count": 26,
     "metadata": {},
     "output_type": "execute_result"
    }
   ],
   "source": [
    "#création du fichier pickle\n",
    "session.save_model(modele_final,\"modele_trained\")\n"
   ]
  },
  {
   "cell_type": "code",
   "execution_count": null,
   "metadata": {},
   "outputs": [],
   "source": []
  },
  {
   "cell_type": "code",
   "execution_count": null,
   "metadata": {},
   "outputs": [],
   "source": []
  }
 ],
 "metadata": {
  "kernelspec": {
   "display_name": "Python 3",
   "language": "python",
   "name": "python3"
  },
  "language_info": {
   "codemirror_mode": {
    "name": "ipython",
    "version": 3
   },
   "file_extension": ".py",
   "mimetype": "text/x-python",
   "name": "python",
   "nbconvert_exporter": "python",
   "pygments_lexer": "ipython3",
   "version": "3.8.18"
  }
 },
 "nbformat": 4,
 "nbformat_minor": 2
}
